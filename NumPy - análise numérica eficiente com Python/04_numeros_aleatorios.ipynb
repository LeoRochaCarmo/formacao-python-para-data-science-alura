{
 "cells": [
  {
   "cell_type": "markdown",
   "metadata": {},
   "source": [
    "##### Gerando novamente os dados"
   ]
  },
  {
   "cell_type": "code",
   "execution_count": 169,
   "metadata": {},
   "outputs": [],
   "source": [
    "import pandas as pd\n",
    "import numpy as np\n",
    "\n",
    "SHEET_PATH = 'data/apples_ts.csv'\n",
    "\n",
    "df = pd.read_csv(SHEET_PATH)\n",
    "\n",
    "\n",
    "columns_to_use = np.arange(1, len(df.columns), 1)\n",
    "data = np.loadtxt(SHEET_PATH, delimiter=',', usecols=columns_to_use)\n",
    "\n",
    "dates = columns_to_use\n",
    "\n",
    "moscow, kaliningrad, petersburg, krasnodar, ekaterinburg = [city for city in data[1:]]"
   ]
  },
  {
   "cell_type": "markdown",
   "metadata": {},
   "source": [
    "#### Gerando números aleatórios"
   ]
  },
  {
   "cell_type": "markdown",
   "metadata": {},
   "source": [
    "##### Números inteiros aleatórios"
   ]
  },
  {
   "cell_type": "code",
   "execution_count": 170,
   "metadata": {},
   "outputs": [],
   "source": [
    "random_ints = np.random.randint(low=40, high= 100, size= 100)"
   ]
  },
  {
   "cell_type": "markdown",
   "metadata": {},
   "source": [
    "##### Números decimais aleatórios"
   ]
  },
  {
   "cell_type": "code",
   "execution_count": 171,
   "metadata": {},
   "outputs": [],
   "source": [
    "random_floats = np.random.uniform(low=0.10, high=0.90, size=100)\n",
    "angular_coefs = random_floats"
   ]
  },
  {
   "cell_type": "markdown",
   "metadata": {},
   "source": [
    "#### Calculando a norma para cada coeficiente angular gerado"
   ]
  },
  {
   "cell_type": "markdown",
   "metadata": {},
   "source": [
    "##### Obtendo novamente o coeficiente linear"
   ]
  },
  {
   "cell_type": "code",
   "execution_count": 196,
   "metadata": {},
   "outputs": [
    {
     "data": {
      "text/plain": [
       "array([ 1,  2,  3,  4,  5,  6,  7,  8,  9, 10, 11, 12, 13, 14, 15, 16, 17,\n",
       "       18, 19, 20, 21, 22, 23, 24, 25, 26, 27, 28, 29, 30, 31, 32, 33, 34,\n",
       "       35, 36, 37, 38, 39, 40, 41, 42, 43, 44, 45, 46, 47, 48, 49, 50, 51,\n",
       "       52, 53, 54, 55, 56, 57, 58, 59, 60, 61, 62, 63, 64, 65, 66, 67, 68,\n",
       "       69, 70, 71, 72, 73, 74, 75, 76, 77, 78, 79, 80, 81, 82, 83, 84, 85,\n",
       "       86, 87])"
      ]
     },
     "execution_count": 196,
     "metadata": {},
     "output_type": "execute_result"
    }
   ],
   "source": [
    "y = moscow\n",
    "x = dates\n",
    "n = np.size(moscow)\n",
    "\n",
    "a = (n*np.sum(x*y) - np.sum(x)*np.sum(y)) / (n*np.sum(x**2) - np.sum(x)**2)\n",
    "b = b = np.mean(y) - a*np.mean(x)"
   ]
  },
  {
   "cell_type": "markdown",
   "metadata": {},
   "source": [
    "##### Normas calculadas com o coeficientes angulares aleatórios"
   ]
  },
  {
   "cell_type": "code",
   "execution_count": 198,
   "metadata": {},
   "outputs": [
    {
     "name": "stdout",
     "output_type": "stream",
     "text": [
      "[173.90151233 103.45241986 121.75367289 128.97173036 238.69504078\n",
      " 149.16590195 137.73123242 118.54419212 101.79720981 149.04689147\n",
      " 112.80225228 105.8049351  230.82444742 111.69709582 134.56525603\n",
      " 110.93209631 204.12484401 196.82117307 221.88687726 156.13691054\n",
      " 125.51272174 136.46474504 165.39506278 240.68784732 104.52254473\n",
      " 188.75637903 131.2292927  128.94885341 234.70773582 147.01799832\n",
      " 113.7418054  116.94496221 109.58257043 107.09546548 145.00728041\n",
      " 182.83818792 140.95017242 106.12371866 107.0915778  132.45242448\n",
      " 144.8736358  143.54772697 240.23793834 113.74604121 116.01191029\n",
      " 152.02977343 174.72333708 141.8068161  101.93467119 103.01538109\n",
      " 169.59787792 128.13083711 105.06648948 101.83421597 102.53716362\n",
      " 113.63850533 219.96993004 117.37921502 182.70217805 146.69612581\n",
      " 178.64742004 132.25425967 109.74998636 186.49825034 104.98272763\n",
      " 133.73791912 182.82613374 235.49081018 179.79275527 228.72013359\n",
      " 184.2584889  114.02435937 124.95415977 187.42082714 105.18421164\n",
      " 102.1005486  135.72717949 107.19212075 114.07766563 225.76351056\n",
      " 103.96340568 118.21130391 109.96158846 181.54233309 114.09828878\n",
      " 118.61778913 224.37792949 153.50523694 185.44994519 117.35423938\n",
      " 151.19534147 118.44720795 112.26379208 104.60483872 123.8587347\n",
      " 111.40038324 102.05294074 150.97459646 108.76787533 107.97542886]\n"
     ]
    }
   ],
   "source": [
    "norma = np.array([])\n",
    "for i in range(100):\n",
    "    y = angular_coefs[i] * x + b\n",
    "    norma = np.append(norma,(np.linalg.norm(moscow-y)))"
   ]
  },
  {
   "cell_type": "markdown",
   "metadata": {},
   "source": [
    "##### Descobrindo o coeficiente angular ideal"
   ]
  },
  {
   "cell_type": "code",
   "execution_count": 174,
   "metadata": {},
   "outputs": [
    {
     "data": {
      "text/plain": [
       "0.4312025878287281"
      ]
     },
     "execution_count": 174,
     "metadata": {},
     "output_type": "execute_result"
    }
   ],
   "source": [
    "min_index = np.argmin(norma) # retorna o índice do menor valor na array\n",
    "\n",
    "angular_coefs[min_index]"
   ]
  },
  {
   "cell_type": "markdown",
   "metadata": {},
   "source": [
    "#### Reprodutibilidade"
   ]
  },
  {
   "cell_type": "code",
   "execution_count": 178,
   "metadata": {},
   "outputs": [
    {
     "data": {
      "text/plain": [
       "0.43471917334609456"
      ]
     },
     "execution_count": 178,
     "metadata": {},
     "output_type": "execute_result"
    }
   ],
   "source": [
    "np.random.seed(84) # gera números aleatórios através de um número semente fixo\n",
    "angular_coefs = np.random.uniform(low=0.10, high=0.90, size=100)\n",
    "\n",
    "norma = np.array([])\n",
    "for i in range(100):\n",
    "    y = angular_coefs[i] * x + b\n",
    "    norma = np.append(norma,(np.linalg.norm(moscow-y)))\n",
    "\n",
    "min_index = np.argmin(norma)\n",
    "angular_coefs[min_index]"
   ]
  },
  {
   "cell_type": "markdown",
   "metadata": {},
   "source": [
    "#### Salvando os resultados"
   ]
  },
  {
   "cell_type": "code",
   "execution_count": 195,
   "metadata": {},
   "outputs": [],
   "source": [
    "data = np.column_stack((norma, angular_coefs))\n",
    "\n",
    "np.savetxt('dados.csv', data, delimiter=',')"
   ]
  }
 ],
 "metadata": {
  "kernelspec": {
   "display_name": "base",
   "language": "python",
   "name": "python3"
  },
  "language_info": {
   "codemirror_mode": {
    "name": "ipython",
    "version": 3
   },
   "file_extension": ".py",
   "mimetype": "text/x-python",
   "name": "python",
   "nbconvert_exporter": "python",
   "pygments_lexer": "ipython3",
   "version": "3.12.7"
  }
 },
 "nbformat": 4,
 "nbformat_minor": 2
}
